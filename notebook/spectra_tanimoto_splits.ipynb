{
 "cells": [
  {
   "cell_type": "code",
   "metadata": {
    "executionInfo": {
     "elapsed": 28783,
     "status": "ok",
     "timestamp": 1753668941281,
     "user": {
      "displayName": "Vy Do",
      "userId": "13933657984692773315"
     },
     "user_tz": 240
    },
    "id": "l_Su0MZ6YID_",
    "colab": {
     "base_uri": "https://localhost:8080/"
    },
    "outputId": "7178787b-9147-41e0-90f9-4d12cf231e5b"
   },
   "source": [
    "import deepchem as dc\n",
    "import chemprop\n",
    "from spectrae import Spectra, SpectraDataset\n",
    "import numpy as np\n",
    "import pandas as pd\n",
    "from rdkit import Chem\n",
    "from rdkit import DataStructs\n",
    "from rdkit.Chem import Draw, AllChem, rdFingerprintGenerator\n",
    "from rdkit.DataStructs.cDataStructs import TanimotoSimilarity\n",
    "from tqdm import tqdm\n",
    "import os\n",
    "import shutil"
   ],
   "outputs": [],
   "execution_count": null
  },
  {
   "cell_type": "code",
   "metadata": {
    "id": "S-EtV5I5cQ96"
   },
   "source": [
    "class molnet_dataset(SpectraDataset):\n",
    "\n",
    "  def parse(self, dataset):\n",
    "    return dataset\n",
    "\n",
    "  def __len__(self):\n",
    "    return len(self.samples)\n",
    "\n",
    "  def sample_to_index(self,sample):\n",
    "    if not hasattr(self, 'index_to_sequence'):\n",
    "      print('Generating index to sequence')\n",
    "      self.index_to_sequence = {}\n",
    "      for i in tqdm(range(len(self.samples))):\n",
    "        x = self.__getitem__(i)\n",
    "        self.index_to_sequence[x] = i\n",
    "    return self.index_to_sequence[sample]\n",
    "\n",
    "  def __getitem__(self, idx):\n",
    "    return self.samples[idx]"
   ],
   "outputs": [],
   "execution_count": null
  },
  {
   "cell_type": "code",
   "metadata": {
    "id": "x3RpbdZ9mUSS"
   },
   "source": [
    "class molnet_tanimoto_spectra(Spectra):\n",
    "  def spectra_properties(self, sample_one, sample_two):\n",
    "    return TanimotoSimilarity(sample_one, sample_two)\n",
    "\n",
    "  def cross_split_overlap(self, train, test):\n",
    "    average_similarity = []\n",
    "    for i in train:\n",
    "      for j in test:\n",
    "        average_similarity.append(self.spectra_properties(i,j))\n",
    "    return np.mean(average_similarity)"
   ],
   "outputs": [],
   "execution_count": null
  },
  {
   "cell_type": "code",
   "source": [
    "spectra_parameters = {'number_repeats': 3,\n",
    "                      'random_seed': [42,44,46],\n",
    "                      'spectral_parameters':[\"{:.2f}\".format(i) for i in np.arange(0,1.05,0.05)],\n",
    "                      'force_reconstruct': True,\n",
    "                      }"
   ],
   "metadata": {
    "id": "wtujDDLSogrR"
   },
   "outputs": [],
   "execution_count": null
  },
  {
   "metadata": {},
   "cell_type": "code",
   "source": [
    "tasks, dataset, transformers = dc.molnet.load_bace_classification(splitter = None)\n",
    "bace_data = dataset[0].X.tolist()\n",
    "bace_data\n",
    "#bace_spectra = molnet_tanimoto_spectra(bace_dataset, binary = False)\n",
    "#bace_spectra.pre_calculate_spectra_properties('bace', force_recalculate = True)"
   ],
   "outputs": [],
   "execution_count": null
  },
  {
   "cell_type": "code",
   "metadata": {
    "collapsed": true,
    "executionInfo": {
     "elapsed": 2765,
     "status": "ok",
     "timestamp": 1753641502903,
     "user": {
      "displayName": "Vy Do",
      "userId": "13933657984692773315"
     },
     "user_tz": 240
    },
    "id": "cRzuU1aybbR_",
    "colab": {
     "base_uri": "https://localhost:8080/"
    },
    "outputId": "1ec7c2a1-1da2-4685-aff3-f0da8f47da21"
   },
   "source": [
    "tasks,datasets,transformers = dc.molnet.load_bace_classification(splitter = None)\n",
    "bace_smiles = datasets[0].ids\n"
   ],
   "outputs": [],
   "execution_count": null
  },
  {
   "cell_type": "code",
   "source": [
    "mfp_bace = []\n",
    "for i in range(len(bace_smiles)):\n",
    "  mol = Chem.MolFromSmiles(bace_smiles[i])\n",
    "  fp = rdFingerprintGenerator.GetMorganGenerator(radius=2, fpSize=1024).GetFingerprint(mol)\n",
    "  mfp_bace.append(fp)"
   ],
   "metadata": {
    "id": "WaISG-N8ECiA"
   },
   "outputs": [],
   "execution_count": null
  },
  {
   "cell_type": "code",
   "metadata": {
    "colab": {
     "base_uri": "https://localhost:8080/"
    },
    "executionInfo": {
     "elapsed": 87,
     "status": "ok",
     "timestamp": 1753648287599,
     "user": {
      "displayName": "Vy Do",
      "userId": "13933657984692773315"
     },
     "user_tz": 240
    },
    "id": "y9TjZb4Eiw23",
    "outputId": "b01e5a46-2689-4cbd-eb12-6d27e31407c0"
   },
   "source": [
    "bace_dataset = molnet_dataset(mfp_bace,'bace')\n",
    "print(bace_dataset.samples)\n",
    "print(type(bace_dataset.samples))\n",
    "print(bace_dataset.name)"
   ],
   "outputs": [],
   "execution_count": null
  },
  {
   "cell_type": "code",
   "metadata": {
    "colab": {
     "base_uri": "https://localhost:8080/"
    },
    "executionInfo": {
     "elapsed": 6,
     "status": "ok",
     "timestamp": 1753648302299,
     "user": {
      "displayName": "Vy Do",
      "userId": "13933657984692773315"
     },
     "user_tz": 240
    },
    "id": "hEUwauCLlMfx",
    "outputId": "9bafe541-fd82-4710-8bda-9ef99065f1c3"
   },
   "source": [
    "bace_spectra = molnet_tanimoto_spectra(bace_dataset, binary = False)\n",
    "print(type(bace_spectra.dataset))"
   ],
   "outputs": [],
   "execution_count": null
  },
  {
   "cell_type": "code",
   "metadata": {
    "colab": {
     "base_uri": "https://localhost:8080/"
    },
    "executionInfo": {
     "elapsed": 5601,
     "status": "ok",
     "timestamp": 1753641521785,
     "user": {
      "displayName": "Vy Do",
      "userId": "13933657984692773315"
     },
     "user_tz": 240
    },
    "id": "r8RDiqEElc8R",
    "outputId": "215d2b99-75d1-4e92-aa8e-61bcec382f8e"
   },
   "source": [
    "bace_spectra.pre_calculate_spectra_properties('bace', force_recalculate = True)"
   ],
   "outputs": [],
   "execution_count": null
  },
  {
   "cell_type": "code",
   "metadata": {
    "id": "n6Pa0z9Upvay",
    "collapsed": true
   },
   "source": [
    "bace_spectra.generate_spectra_splits(**spectra_parameters)"
   ],
   "outputs": [],
   "execution_count": null
  },
  {
   "cell_type": "code",
   "source": [
    "stats_bace = bace_spectra.return_all_split_stats()\n",
    "stats_bace_df = pd.DataFrame(stats_bace).sort_values(by = 'SPECTRA_parameter', ascending = True)\n",
    "\n",
    "print('SPECTRA Splits on BACE')\n",
    "print('----------------------')\n",
    "for index, row in stats_bace_df.iterrows():\n",
    "  print(f'SPECTRA parameter: {row[\"SPECTRA_parameter\"]}')\n",
    "  print(f'Train size: {row[\"train_size\"]} | Test size: {row[\"test_size\"]}')\n",
    "  print(f'Cross split overlap: {row[\"cross_split_overlap\"]} \\n')"
   ],
   "metadata": {
    "colab": {
     "base_uri": "https://localhost:8080/"
    },
    "id": "jj6Ce-g5dzrR",
    "executionInfo": {
     "status": "ok",
     "timestamp": 1753647706343,
     "user_tz": 240,
     "elapsed": 23,
     "user": {
      "displayName": "Vy Do",
      "userId": "13933657984692773315"
     }
    },
    "outputId": "6808c735-6caf-4c55-efc3-d1ac1e0dd2a3"
   },
   "outputs": [],
   "execution_count": null
  },
  {
   "cell_type": "code",
   "source": [
    "plt.scatter(stats_bace['SPECTRA_parameter'], stats_bace['cross_split_overlap'])\n",
    "plt.xlabel('SPECTRA parameter')\n",
    "plt.ylabel('Cross split overlap')\n",
    "plt.title('SPECTRA Splits of BACE')\n",
    "plt.show()"
   ],
   "metadata": {
    "colab": {
     "base_uri": "https://localhost:8080/",
     "height": 472
    },
    "id": "e_zIQGky1Nje",
    "executionInfo": {
     "status": "ok",
     "timestamp": 1753647500526,
     "user_tz": 240,
     "elapsed": 202,
     "user": {
      "displayName": "Vy Do",
      "userId": "13933657984692773315"
     }
    },
    "outputId": "aeeeb5df-7dcf-433c-927c-728d2e9967c0"
   },
   "outputs": [],
   "execution_count": null
  },
  {
   "cell_type": "code",
   "source": [
    "plt.scatter(stats_bace['SPECTRA_parameter'], stats_bace['train_size'])\n",
    "plt.scatter(stats_bace['SPECTRA_parameter'], stats_bace['test_size'])\n",
    "plt.xlabel('SPECTRA parameter')\n",
    "plt.ylabel('Split size')\n",
    "plt.legend(['Train','Test'])\n",
    "plt.title('SPECTRA Splits of BACE')\n",
    "plt.show()"
   ],
   "metadata": {
    "colab": {
     "base_uri": "https://localhost:8080/",
     "height": 472
    },
    "id": "QKa2Fdgw3dsa",
    "executionInfo": {
     "status": "ok",
     "timestamp": 1753647503803,
     "user_tz": 240,
     "elapsed": 231,
     "user": {
      "displayName": "Vy Do",
      "userId": "13933657984692773315"
     }
    },
    "outputId": "3c8b1a82-e443-4b20-848c-1769f26a4f6f"
   },
   "outputs": [],
   "execution_count": null
  },
  {
   "cell_type": "code",
   "source": [
    "save_path_bace = '/content/drive/MyDrive/SAGELab/spectra_project/spectra_splits/Tanimoto/BACE'\n",
    "if not os.path.exists(save_path_bace):\n",
    "  os.makedirs(save_path_bace)\n",
    "shutil.copytree('bace_SPECTRA_splits', os.path.join(save_path_bace, 'bace_SPECTRA_splits'))\n",
    "shutil.copytree('bace_spectral_property_graphs', os.path.join(save_path_bace, 'bace_spectral_property_graphs'))\n",
    "shutil.copy('bace_precalculated_spectra_properties', os.path.join(save_path_bace, 'bace_precalculated_spectra_properties'))"
   ],
   "metadata": {
    "colab": {
     "base_uri": "https://localhost:8080/",
     "height": 360
    },
    "id": "MCX6IGFy4Z72",
    "executionInfo": {
     "status": "error",
     "timestamp": 1753644196351,
     "user_tz": 240,
     "elapsed": 40,
     "user": {
      "displayName": "Vy Do",
      "userId": "13933657984692773315"
     }
    },
    "outputId": "06d890d9-e5f9-44f0-ebe1-535b10061a43",
    "collapsed": true
   },
   "outputs": [],
   "execution_count": null
  },
  {
   "cell_type": "code",
   "source": [
    "tasks,bbbp_datasets,transformers = dc.molnet.load_bbbp(splitter = None)\n",
    "bbbp_smiles = bbbp_datasets[0].ids"
   ],
   "metadata": {
    "collapsed": true,
    "id": "nmYuYSgOuDLJ"
   },
   "outputs": [],
   "execution_count": null
  },
  {
   "cell_type": "code",
   "source": [
    "mfp_bbbp = []\n",
    "\n",
    "for i in range(len(bbbp_smiles)):\n",
    "  mol = Chem.MolFromSmiles(bbbp_smiles[i])\n",
    "  fp = rdFingerprintGenerator.GetMorganGenerator(radius=2, fpSize=1024).GetFingerprint(mol)\n",
    "  mfp_bbbp.append(fp)"
   ],
   "metadata": {
    "colab": {
     "base_uri": "https://localhost:8080/"
    },
    "collapsed": true,
    "id": "mZz9YiIVuc8F",
    "executionInfo": {
     "status": "ok",
     "timestamp": 1753634587614,
     "user_tz": 240,
     "elapsed": 654,
     "user": {
      "displayName": "Vy Do",
      "userId": "13933657984692773315"
     }
    },
    "outputId": "454b49ab-b18b-4907-d959-ac3bd468c0bb"
   },
   "outputs": [],
   "execution_count": null
  },
  {
   "cell_type": "code",
   "source": [
    "bbbp_dataset = molnet_dataset(mfp_bbbp,'bbbp')"
   ],
   "metadata": {
    "id": "k3N756ZRxAnj"
   },
   "outputs": [],
   "execution_count": null
  },
  {
   "cell_type": "code",
   "source": [
    "bbbp_spectra = molnet_tanimoto_spectra(bbbp_dataset, binary = False)"
   ],
   "metadata": {
    "id": "APkPzCXOyvf9"
   },
   "outputs": [],
   "execution_count": null
  },
  {
   "cell_type": "code",
   "source": [
    "bbbp_spectra.pre_calculate_spectra_properties('bbbp', force_recalculate = True)"
   ],
   "metadata": {
    "colab": {
     "base_uri": "https://localhost:8080/"
    },
    "id": "NS7J0UBpy6Yh",
    "executionInfo": {
     "status": "ok",
     "timestamp": 1753635091241,
     "user_tz": 240,
     "elapsed": 10996,
     "user": {
      "displayName": "Vy Do",
      "userId": "13933657984692773315"
     }
    },
    "outputId": "eb7a93d1-b975-4e45-b595-5d63f201ed2b"
   },
   "outputs": [],
   "execution_count": null
  },
  {
   "cell_type": "code",
   "source": [
    "bbbp_spectra.generate_spectra_splits(**spectra_parameters)"
   ],
   "metadata": {
    "colab": {
     "base_uri": "https://localhost:8080/"
    },
    "collapsed": true,
    "id": "sMplYIdMy8eq",
    "executionInfo": {
     "status": "ok",
     "timestamp": 1753641183990,
     "user_tz": 240,
     "elapsed": 159153,
     "user": {
      "displayName": "Vy Do",
      "userId": "13933657984692773315"
     }
    },
    "outputId": "9cda9235-24f5-481c-c670-d1fd2025d40b"
   },
   "outputs": [],
   "execution_count": null
  },
  {
   "cell_type": "code",
   "source": [
    "save_path_bbbp = '/content/drive/MyDrive/SAGELab/spectra_project/spectra_splits/Tanimoto/BBBP'\n",
    "if not os.path.exists(save_path_bbbp):\n",
    "  os.makedirs(save_path_bbbp)\n",
    "shutil.copytree('bbbp_SPECTRA_splits', os.path.join(save_path_bbbp, 'bbbp_SPECTRA_splits'))\n",
    "shutil.copytree('bbbp_spectral_property_graphs', os.path.join(save_path_bbbp, 'bbbp_spectral_property_graphs'))"
   ],
   "metadata": {
    "colab": {
     "base_uri": "https://localhost:8080/",
     "height": 52
    },
    "id": "t9Nm_rCFzJew",
    "executionInfo": {
     "status": "ok",
     "timestamp": 1753641263220,
     "user_tz": 240,
     "elapsed": 3658,
     "user": {
      "displayName": "Vy Do",
      "userId": "13933657984692773315"
     }
    },
    "outputId": "940ee3c4-6a48-4094-d9f3-38979d6a6af8"
   },
   "outputs": [],
   "execution_count": null
  },
  {
   "cell_type": "code",
   "source": [
    "stats_bbbp = bbbp_spectra.return_all_split_stats()\n",
    "stats_bbbp_df = pd.DataFrame(stats_bbbp).sort_values(by = 'SPECTRA_parameter', ascending = True)\n",
    "\n",
    "print('SPECTRA Splits on BBBP')\n",
    "print('----------------------')\n",
    "for index, row in stats_bbbp_df.iterrows():\n",
    "  print(f'SPECTRA parameter: {row[\"SPECTRA_parameter\"]}')\n",
    "  print(f'Train size: {row[\"train_size\"]} | Test size: {row[\"test_size\"]}')\n",
    "  print(f'Cross split overlap: {row[\"cross_split_overlap\"]} \\n')"
   ],
   "metadata": {
    "colab": {
     "base_uri": "https://localhost:8080/"
    },
    "id": "BtJ94BHYibZU",
    "executionInfo": {
     "status": "ok",
     "timestamp": 1753647732503,
     "user_tz": 240,
     "elapsed": 14,
     "user": {
      "displayName": "Vy Do",
      "userId": "13933657984692773315"
     }
    },
    "outputId": "7f442c03-e27d-4a32-e055-f35b8c6f24fb"
   },
   "outputs": [],
   "execution_count": null
  },
  {
   "cell_type": "code",
   "source": [
    "plt.scatter(stats_bbbp['SPECTRA_parameter'], stats_bbbp['cross_split_overlap'])\n",
    "plt.xlabel('SPECTRA parameter')\n",
    "plt.ylabel('Cross split overlap')\n",
    "plt.title('SPECTRA Splits of BBBP')\n",
    "plt.show()"
   ],
   "metadata": {
    "colab": {
     "base_uri": "https://localhost:8080/",
     "height": 472
    },
    "id": "PBjT1ZDPKbZv",
    "executionInfo": {
     "status": "ok",
     "timestamp": 1753647580187,
     "user_tz": 240,
     "elapsed": 158,
     "user": {
      "displayName": "Vy Do",
      "userId": "13933657984692773315"
     }
    },
    "outputId": "9bbe023d-b758-43fd-f7b7-f640678af4f1"
   },
   "outputs": [],
   "execution_count": null
  },
  {
   "cell_type": "code",
   "source": [
    "plt.scatter(stats_bbbp['SPECTRA_parameter'], stats_bbbp['train_size'])\n",
    "plt.scatter(stats_bbbp['SPECTRA_parameter'], stats_bbbp['test_size'])\n",
    "plt.xlabel('SPECTRA parameter')\n",
    "plt.ylabel('Split size')\n",
    "plt.legend(['Train','Test'])\n",
    "plt.title('SPECTRA Splits of BBBP')\n",
    "plt.show()"
   ],
   "metadata": {
    "colab": {
     "base_uri": "https://localhost:8080/",
     "height": 472
    },
    "id": "z_aVhl-IKwM8",
    "executionInfo": {
     "status": "ok",
     "timestamp": 1753647583252,
     "user_tz": 240,
     "elapsed": 222,
     "user": {
      "displayName": "Vy Do",
      "userId": "13933657984692773315"
     }
    },
    "outputId": "d7de42bd-caf0-4a1b-856e-c51ac9730c0d"
   },
   "outputs": [],
   "execution_count": null
  },
  {
   "cell_type": "code",
   "source": [
    "tasks,clintox_datasets,transformers = dc.molnet.load_clintox(splitter = None)\n",
    "clintox_smiles = clintox_datasets[0].ids"
   ],
   "metadata": {
    "collapsed": true,
    "id": "kUwohrpuUN8C"
   },
   "outputs": [],
   "execution_count": null
  },
  {
   "cell_type": "code",
   "source": [
    "mfp_clintox = []\n",
    "\n",
    "for i in range(len(clintox_smiles)):\n",
    "  mol = Chem.MolFromSmiles(clintox_smiles[i])\n",
    "  fp = rdFingerprintGenerator.GetMorganGenerator(radius=2, fpSize=1024).GetFingerprint(mol)\n",
    "  mfp_clintox.append(fp)"
   ],
   "metadata": {
    "id": "od39yqOdU9zh"
   },
   "outputs": [],
   "execution_count": null
  },
  {
   "cell_type": "code",
   "source": [
    "clintox_dataset = molnet_dataset(mfp_clintox,'clintox')\n",
    "clintox_spectra = molnet_tanimoto_spectra(clintox_dataset, binary = False)\n",
    "clintox_spectra.pre_calculate_spectra_properties('clintox', force_recalculate = True)"
   ],
   "metadata": {
    "colab": {
     "base_uri": "https://localhost:8080/"
    },
    "id": "vHBiltPjVDel",
    "executionInfo": {
     "status": "ok",
     "timestamp": 1753648352070,
     "user_tz": 240,
     "elapsed": 7297,
     "user": {
      "displayName": "Vy Do",
      "userId": "13933657984692773315"
     }
    },
    "outputId": "8f97f191-567c-42fa-ca75-3e65aedd1179"
   },
   "outputs": [],
   "execution_count": null
  },
  {
   "cell_type": "code",
   "source": [
    "clintox_spectra.generate_spectra_splits(**spectra_parameters)"
   ],
   "metadata": {
    "colab": {
     "base_uri": "https://localhost:8080/",
     "height": 316
    },
    "collapsed": true,
    "id": "-yYJJSimVKFy",
    "executionInfo": {
     "status": "error",
     "timestamp": 1753646163122,
     "user_tz": 240,
     "elapsed": 1393,
     "user": {
      "displayName": "Vy Do",
      "userId": "13933657984692773315"
     }
    },
    "outputId": "45e92277-2561-4660-bb8c-851dfa63227b"
   },
   "outputs": [],
   "execution_count": null
  },
  {
   "cell_type": "code",
   "source": [
    "save_path_clintox = '/content/drive/MyDrive/SAGELab/spectra_project/spectra_splits/tanimoto/ClinTox'\n",
    "if not os.path.exists(save_path_clintox):\n",
    "  os.makedirs(save_path_clintox)\n",
    "shutil.copytree('clintox_SPECTRA_splits', os.path.join(save_path_clintox, 'clintox_SPECTRA_splits'))\n",
    "shutil.copytree('clintox_spectral_property_graphs', os.path.join(save_path_clintox, 'clintox_spectral_property_graphs'))\n",
    "shutil.copy('clintox_precalculated_spectra_properties', os.path.join(save_path_clintox, 'clintox_precalculated_spectra_properties'))"
   ],
   "metadata": {
    "colab": {
     "base_uri": "https://localhost:8080/",
     "height": 52
    },
    "id": "yrkGitxBWQTF",
    "executionInfo": {
     "status": "ok",
     "timestamp": 1753646265509,
     "user_tz": 240,
     "elapsed": 4111,
     "user": {
      "displayName": "Vy Do",
      "userId": "13933657984692773315"
     }
    },
    "outputId": "262ad289-0a7b-459f-8259-1460a860c203"
   },
   "outputs": [],
   "execution_count": null
  },
  {
   "cell_type": "code",
   "source": [
    "stats_clintox = clintox_spectra.return_all_split_stats()\n",
    "stats_clintox_df = pd.DataFrame(stats_clintox).sort_values(by = 'SPECTRA_parameter', ascending = True)\n",
    "\n",
    "print('SPECTRA Splits on ClinTox')\n",
    "print('----------------------')\n",
    "for index, row in stats_clintox_df.iterrows():\n",
    "  print(f'SPECTRA parameter: {row[\"SPECTRA_parameter\"]}')\n",
    "  print(f'Train size: {row[\"train_size\"]} | Test size: {row[\"test_size\"]}')\n",
    "  print(f'Cross split overlap: {row[\"cross_split_overlap\"]} \\n')"
   ],
   "metadata": {
    "colab": {
     "base_uri": "https://localhost:8080/"
    },
    "id": "XUp4NaV-isW8",
    "executionInfo": {
     "status": "ok",
     "timestamp": 1753647760604,
     "user_tz": 240,
     "elapsed": 23,
     "user": {
      "displayName": "Vy Do",
      "userId": "13933657984692773315"
     }
    },
    "outputId": "5aa34031-3f38-46fd-ce5a-cacdbc2d37c6"
   },
   "outputs": [],
   "execution_count": null
  },
  {
   "cell_type": "code",
   "source": [
    "plt.scatter(stats_clintox['SPECTRA_parameter'], stats_clintox['cross_split_overlap'])\n",
    "plt.xlabel('SPECTRA parameter')\n",
    "plt.ylabel('Cross split overlap')\n",
    "plt.title('SPECTRA Splits of ClinTox')\n",
    "plt.show()"
   ],
   "metadata": {
    "colab": {
     "base_uri": "https://localhost:8080/",
     "height": 472
    },
    "id": "_d-dDwl1dd1k",
    "executionInfo": {
     "status": "ok",
     "timestamp": 1753647782243,
     "user_tz": 240,
     "elapsed": 140,
     "user": {
      "displayName": "Vy Do",
      "userId": "13933657984692773315"
     }
    },
    "outputId": "14bf7c79-2b8d-41eb-b703-0bd03bd86dfc"
   },
   "outputs": [],
   "execution_count": null
  },
  {
   "cell_type": "code",
   "source": [
    "plt.scatter(stats_clintox['SPECTRA_parameter'], stats_clintox['train_size'])\n",
    "plt.scatter(stats_clintox['SPECTRA_parameter'], stats_clintox['test_size'])\n",
    "plt.xlabel('SPECTRA parameter')\n",
    "plt.ylabel('Split size')\n",
    "plt.legend(['Train','Test'])\n",
    "plt.title('SPECTRA Splits of ClinTox')\n",
    "plt.show()"
   ],
   "metadata": {
    "colab": {
     "base_uri": "https://localhost:8080/",
     "height": 472
    },
    "id": "8-WonnnbjZep",
    "executionInfo": {
     "status": "ok",
     "timestamp": 1753647855633,
     "user_tz": 240,
     "elapsed": 143,
     "user": {
      "displayName": "Vy Do",
      "userId": "13933657984692773315"
     }
    },
    "outputId": "5d80ed6e-e53e-4878-e12b-c978409f05c6"
   },
   "outputs": [],
   "execution_count": null
  },
  {
   "cell_type": "code",
   "source": [
    "tasks, sider_dataset, transformers = dc.molnet.load_sider(splitter = None)\n",
    "sider_smiles = sider_dataset[0].ids"
   ],
   "metadata": {
    "colab": {
     "base_uri": "https://localhost:8080/"
    },
    "id": "uXoVJQagjrY_",
    "executionInfo": {
     "status": "ok",
     "timestamp": 1753652619718,
     "user_tz": 240,
     "elapsed": 2217,
     "user": {
      "displayName": "Vy Do",
      "userId": "13933657984692773315"
     }
    },
    "outputId": "da3c9708-8776-404a-cd4b-bd4de737124f"
   },
   "outputs": [],
   "execution_count": null
  },
  {
   "cell_type": "code",
   "source": [
    "mfp_sider = []\n",
    "\n",
    "for i in range(len(sider_smiles)):\n",
    "  mol = Chem.MolFromSmiles(sider_smiles[i])\n",
    "  fp = rdFingerprintGenerator.GetMorganGenerator(radius=2, fpSize=1024).GetFingerprint(mol)\n",
    "  mfp_sider.append(fp)"
   ],
   "metadata": {
    "colab": {
     "base_uri": "https://localhost:8080/"
    },
    "id": "rAuiz39ikrpR",
    "executionInfo": {
     "status": "ok",
     "timestamp": 1753652639124,
     "user_tz": 240,
     "elapsed": 645,
     "user": {
      "displayName": "Vy Do",
      "userId": "13933657984692773315"
     }
    },
    "outputId": "30373e65-4bc9-43b5-d71d-7b79148e29ec"
   },
   "outputs": [],
   "execution_count": null
  },
  {
   "cell_type": "code",
   "source": [
    "sider_dataset = molnet_dataset(mfp_sider,'sider')\n",
    "sider_spectra = molnet_tanimoto_spectra(sider_dataset, binary = False)\n",
    "sider_spectra.pre_calculate_spectra_properties('sider', force_recalculate = True)"
   ],
   "metadata": {
    "colab": {
     "base_uri": "https://localhost:8080/"
    },
    "id": "Ti41CEa4k3dI",
    "executionInfo": {
     "status": "ok",
     "timestamp": 1753652679249,
     "user_tz": 240,
     "elapsed": 6399,
     "user": {
      "displayName": "Vy Do",
      "userId": "13933657984692773315"
     }
    },
    "outputId": "0f083dbf-c11d-42cb-ba15-7994f53cad5d"
   },
   "outputs": [],
   "execution_count": null
  },
  {
   "cell_type": "code",
   "source": [
    "sider_spectra.generate_spectra_splits(**spectra_parameters)"
   ],
   "metadata": {
    "colab": {
     "base_uri": "https://localhost:8080/",
     "height": 316
    },
    "id": "nDbQhCLhlrdY",
    "executionInfo": {
     "status": "error",
     "timestamp": 1753653933229,
     "user_tz": 240,
     "elapsed": 4003,
     "user": {
      "displayName": "Vy Do",
      "userId": "13933657984692773315"
     }
    },
    "outputId": "02df14dd-5436-46a1-acc7-a94736f98ba0"
   },
   "outputs": [],
   "execution_count": null
  },
  {
   "cell_type": "code",
   "source": [
    "save_path_sider = '/content/drive/MyDrive/SAGELab/spectra_project/spectra_splits/tanimoto/SIDER'\n",
    "if not os.path.exists(save_path_sider):\n",
    "  os.makedirs(save_path_sider)\n",
    "shutil.copytree('sider_SPECTRA_splits', os.path.join(save_path_sider, 'sider_SPECTRA_splits'))\n",
    "shutil.copytree('sider_spectral_property_graphs', os.path.join(save_path_sider, 'sider_spectral_property_graphs'))\n",
    "shutil.copy('sider_precalculated_spectra_properties', os.path.join(save_path_sider, 'sider_precalculated_spectra_properties'))"
   ],
   "metadata": {
    "colab": {
     "base_uri": "https://localhost:8080/",
     "height": 52
    },
    "id": "mazVsoIv678Y",
    "executionInfo": {
     "status": "ok",
     "timestamp": 1753654023170,
     "user_tz": 240,
     "elapsed": 3130,
     "user": {
      "displayName": "Vy Do",
      "userId": "13933657984692773315"
     }
    },
    "outputId": "cf460221-da9e-49e2-ecee-4d11a55bb6bf"
   },
   "outputs": [],
   "execution_count": null
  },
  {
   "cell_type": "code",
   "source": [
    "stats_sider = sider_spectra.return_all_split_stats()\n",
    "stats_sider_df = pd.DataFrame(stats_sider).sort_values(by = 'SPECTRA_parameter', ascending = True)\n",
    "\n",
    "print('SPECTRA Splits on SIDER')\n",
    "print('----------------------')\n",
    "for index, row in stats_sider_df.iterrows():\n",
    "  print(f'SPECTRA parameter: {row[\"SPECTRA_parameter\"]}')\n",
    "  print(f'Train size: {row[\"train_size\"]} | Test size: {row[\"test_size\"]}')\n",
    "  print(f'Cross split overlap: {row[\"cross_split_overlap\"]} \\n')"
   ],
   "metadata": {
    "colab": {
     "base_uri": "https://localhost:8080/"
    },
    "id": "vmmk36kC7N4M",
    "executionInfo": {
     "status": "ok",
     "timestamp": 1753654070411,
     "user_tz": 240,
     "elapsed": 35,
     "user": {
      "displayName": "Vy Do",
      "userId": "13933657984692773315"
     }
    },
    "outputId": "4d3fad65-b900-410f-9a1b-7257321d88da"
   },
   "outputs": [],
   "execution_count": null
  },
  {
   "cell_type": "code",
   "source": [
    "plt.scatter(stats_sider['SPECTRA_parameter'], stats_sider['cross_split_overlap'])\n",
    "plt.xlabel('SPECTRA parameter')\n",
    "plt.ylabel('Cross split overlap')\n",
    "plt.title('SPECTRA Splits of SIDER')\n",
    "plt.show()"
   ],
   "metadata": {
    "colab": {
     "base_uri": "https://localhost:8080/",
     "height": 472
    },
    "id": "_FT3Mezw7b29",
    "executionInfo": {
     "status": "ok",
     "timestamp": 1753654107762,
     "user_tz": 240,
     "elapsed": 292,
     "user": {
      "displayName": "Vy Do",
      "userId": "13933657984692773315"
     }
    },
    "outputId": "3732794d-df54-4fe4-ac68-97435564b63d"
   },
   "outputs": [],
   "execution_count": null
  },
  {
   "cell_type": "code",
   "source": [
    "plt.scatter(stats_sider['SPECTRA_parameter'], stats_sider['train_size'])\n",
    "plt.scatter(stats_sider['SPECTRA_parameter'], stats_sider['test_size'])\n",
    "plt.xlabel('SPECTRA parameter')\n",
    "plt.ylabel('Split size')\n",
    "plt.legend(['Train','Test'])\n",
    "plt.title('SPECTRA Splits of SIDER')\n",
    "plt.show()"
   ],
   "metadata": {
    "colab": {
     "base_uri": "https://localhost:8080/",
     "height": 472
    },
    "id": "QiXb3KXY7iyv",
    "executionInfo": {
     "status": "ok",
     "timestamp": 1753654135995,
     "user_tz": 240,
     "elapsed": 197,
     "user": {
      "displayName": "Vy Do",
      "userId": "13933657984692773315"
     }
    },
    "outputId": "6c6d9cb1-36dc-4dcd-b1a0-e2701d97bbe1"
   },
   "outputs": [],
   "execution_count": null
  },
  {
   "cell_type": "code",
   "source": [
    "tasks, delaney_dataset, transformers = dc.molnet.load_delaney(splitter = None)\n",
    "delaney_smiles = delaney_dataset[0].ids"
   ],
   "metadata": {
    "colab": {
     "base_uri": "https://localhost:8080/"
    },
    "id": "fmGtW19yskW2",
    "executionInfo": {
     "status": "ok",
     "timestamp": 1753659145766,
     "user_tz": 240,
     "elapsed": 1893,
     "user": {
      "displayName": "Vy Do",
      "userId": "13933657984692773315"
     }
    },
    "outputId": "88af675f-51a6-4451-b1a8-708a4f917f92"
   },
   "outputs": [],
   "execution_count": null
  },
  {
   "cell_type": "code",
   "source": [
    "mfp_delaney = []\n",
    "\n",
    "for i in range(len(delaney_smiles)):\n",
    "  mol = Chem.MolFromSmiles(delaney_smiles[i])\n",
    "  fp = rdFingerprintGenerator.GetMorganGenerator(radius=2, fpSize=1024).GetFingerprint(mol)\n",
    "  mfp_delaney.append(fp)"
   ],
   "metadata": {
    "id": "PVEAS_f6I-F1"
   },
   "outputs": [],
   "execution_count": null
  },
  {
   "cell_type": "code",
   "source": [
    "delaney_dataset = molnet_dataset(mfp_delaney,'delaney')\n",
    "delaney_spectra = molnet_tanimoto_spectra(delaney_dataset, binary = False)\n",
    "delaney_spectra.pre_calculate_spectra_properties('delaney', force_recalculate = True)"
   ],
   "metadata": {
    "colab": {
     "base_uri": "https://localhost:8080/"
    },
    "id": "2XxlsMxGJGkI",
    "executionInfo": {
     "status": "ok",
     "timestamp": 1753659199471,
     "user_tz": 240,
     "elapsed": 2378,
     "user": {
      "displayName": "Vy Do",
      "userId": "13933657984692773315"
     }
    },
    "outputId": "2bcbf99b-22c5-42e8-e285-7807b5397642"
   },
   "outputs": [],
   "execution_count": null
  },
  {
   "cell_type": "code",
   "source": [
    "delaney_spectra.generate_spectra_splits(**spectra_parameters)"
   ],
   "metadata": {
    "colab": {
     "base_uri": "https://localhost:8080/"
    },
    "id": "aPQrNJHQJMHm",
    "executionInfo": {
     "status": "ok",
     "timestamp": 1753659699686,
     "user_tz": 240,
     "elapsed": 482442,
     "user": {
      "displayName": "Vy Do",
      "userId": "13933657984692773315"
     }
    },
    "outputId": "fd23ffc2-2a5a-4ad2-fe31-b69fcdc42c29"
   },
   "outputs": [],
   "execution_count": null
  },
  {
   "cell_type": "code",
   "source": [
    "save_path_delaney = '/content/drive/MyDrive/SAGELab/spectra_project/spectra_splits/tanimoto/Delaney'\n",
    "if not os.path.exists(save_path_delaney):\n",
    "  os.makedirs(save_path_delaney)\n",
    "shutil.copytree('delaney_SPECTRA_splits', os.path.join(save_path_delaney, 'delaney_SPECTRA_splits'))\n",
    "shutil.copytree('delaney_spectral_property_graphs', os.path.join(save_path_delaney, 'delaney_spectral_property_graphs'))\n",
    "shutil.copy('delaney_precalculated_spectra_properties', os.path.join(save_path_delaney, 'delaney_precalculated_spectra_properties'))"
   ],
   "metadata": {
    "colab": {
     "base_uri": "https://localhost:8080/",
     "height": 52
    },
    "id": "Zrj8J6z0JQWl",
    "executionInfo": {
     "status": "ok",
     "timestamp": 1753659837983,
     "user_tz": 240,
     "elapsed": 6527,
     "user": {
      "displayName": "Vy Do",
      "userId": "13933657984692773315"
     }
    },
    "outputId": "443b0abd-ddf3-4db3-a9bf-372037d18577"
   },
   "outputs": [],
   "execution_count": null
  },
  {
   "cell_type": "code",
   "source": [
    "stats_delaney = delaney_spectra.return_all_split_stats()\n",
    "stats_delaney_df = pd.DataFrame(stats_delaney).sort_values(by = 'SPECTRA_parameter', ascending = True)\n",
    "\n",
    "print('SPECTRA Splits on Delaney')\n",
    "print('----------------------')\n",
    "for index, row in stats_delaney_df.iterrows():\n",
    "  print(f'SPECTRA parameter: {row[\"SPECTRA_parameter\"]}')\n",
    "  print(f'Train size: {row[\"train_size\"]} | Test size: {row[\"test_size\"]}')\n",
    "  print(f'Cross split overlap: {row[\"cross_split_overlap\"]} \\n')"
   ],
   "metadata": {
    "colab": {
     "base_uri": "https://localhost:8080/"
    },
    "id": "pNw8iwLqLei-",
    "executionInfo": {
     "status": "ok",
     "timestamp": 1753659867841,
     "user_tz": 240,
     "elapsed": 35,
     "user": {
      "displayName": "Vy Do",
      "userId": "13933657984692773315"
     }
    },
    "outputId": "d69af867-7c90-4df5-ff07-e6cd3759358f"
   },
   "outputs": [],
   "execution_count": null
  },
  {
   "cell_type": "code",
   "source": [
    "plt.scatter(stats_delaney['SPECTRA_parameter'], stats_delaney['cross_split_overlap'])\n",
    "plt.xlabel('SPECTRA parameter')\n",
    "plt.ylabel('Cross split overlap')\n",
    "plt.title('SPECTRA Splits of Delaney')\n",
    "plt.show()"
   ],
   "metadata": {
    "colab": {
     "base_uri": "https://localhost:8080/",
     "height": 472
    },
    "id": "j24bxS3ZLuj-",
    "executionInfo": {
     "status": "ok",
     "timestamp": 1753659872197,
     "user_tz": 240,
     "elapsed": 290,
     "user": {
      "displayName": "Vy Do",
      "userId": "13933657984692773315"
     }
    },
    "outputId": "761391d5-4838-4c23-fddb-b266edec7a8a"
   },
   "outputs": [],
   "execution_count": null
  },
  {
   "cell_type": "code",
   "source": [
    "plt.scatter(stats_delaney['SPECTRA_parameter'], stats_delaney['train_size'])\n",
    "plt.scatter(stats_delaney['SPECTRA_parameter'], stats_delaney['test_size'])\n",
    "plt.xlabel('SPECTRA parameter')\n",
    "plt.ylabel('Split size')\n",
    "plt.legend(['Train','Test'])\n",
    "plt.title('SPECTRA Splits of Delaney')\n",
    "plt.show()"
   ],
   "metadata": {
    "colab": {
     "base_uri": "https://localhost:8080/",
     "height": 472
    },
    "id": "wHGmhROCL89F",
    "executionInfo": {
     "status": "ok",
     "timestamp": 1753659882622,
     "user_tz": 240,
     "elapsed": 233,
     "user": {
      "displayName": "Vy Do",
      "userId": "13933657984692773315"
     }
    },
    "outputId": "6f79c990-660e-4f3e-b0b6-824b1c8bd62e"
   },
   "outputs": [],
   "execution_count": null
  },
  {
   "cell_type": "code",
   "source": [
    "tasks, freesolve_dataset, transformers = dc.molnet.load_freesolv(splitter = None)\n",
    "freesolve_smiles = freesolve_dataset[0].ids"
   ],
   "metadata": {
    "id": "3ZdYgJ_AMAJl"
   },
   "outputs": [],
   "execution_count": null
  },
  {
   "cell_type": "code",
   "source": [
    "mfp_freesolve = []\n",
    "\n",
    "for i in range(len(freesolve_smiles)):\n",
    "  mol = Chem.MolFromSmiles(freesolve_smiles[i])\n",
    "  fp = rdFingerprintGenerator.GetMorganGenerator(radius = 2, fpSize = 1024).GetFingerprint(mol)\n",
    "  mfp_freesolve.append(fp)"
   ],
   "metadata": {
    "id": "0JMDNNaBSH5o"
   },
   "outputs": [],
   "execution_count": null
  },
  {
   "cell_type": "code",
   "source": [
    "freesolve = molnet_dataset(mfp_freesolve,'freesolve')\n",
    "freesolve_spectra = molnet_tanimoto_spectra(freesolve, binary = False)\n",
    "freesolve_spectra.pre_calculate_spectra_properties('freesolve', force_recalculate = True)"
   ],
   "metadata": {
    "colab": {
     "base_uri": "https://localhost:8080/"
    },
    "id": "YsSVELO_SQOu",
    "executionInfo": {
     "status": "ok",
     "timestamp": 1753669090093,
     "user_tz": 240,
     "elapsed": 999,
     "user": {
      "displayName": "Vy Do",
      "userId": "13933657984692773315"
     }
    },
    "outputId": "f3749389-c950-45f1-cd8c-d4732a10afe8"
   },
   "outputs": [],
   "execution_count": null
  },
  {
   "cell_type": "code",
   "source": [
    "freesolve_spectra.generate_spectra_splits(**spectra_parameters)"
   ],
   "metadata": {
    "colab": {
     "base_uri": "https://localhost:8080/"
    },
    "id": "YFXhfNdYSZX0",
    "executionInfo": {
     "status": "ok",
     "timestamp": 1753669191176,
     "user_tz": 240,
     "elapsed": 98714,
     "user": {
      "displayName": "Vy Do",
      "userId": "13933657984692773315"
     }
    },
    "outputId": "39114222-f7a3-44f6-f822-fa46a80ac29e"
   },
   "outputs": [],
   "execution_count": null
  },
  {
   "cell_type": "code",
   "source": [
    "stats_freesolve = freesolve_spectra.return_all_split_stats()\n",
    "stats_freesolve_df = pd.DataFrame(stats_freesolve).sort_values(by = 'SPECTRA_parameter', ascending = True)\n",
    "\n",
    "print('SPECTRA Splits on FreeSolve')\n",
    "print('----------------------')\n",
    "for index, row in stats_freesolve_df.iterrows():\n",
    "  print(f'SPECTRA parameter: {row[\"SPECTRA_parameter\"]}')\n",
    "  print(f'Train size: {row[\"train_size\"]} | Test size: {row[\"test_size\"]}')\n",
    "  print(f'Cross split overlap: {row[\"cross_split_overlap\"]} \\n')"
   ],
   "metadata": {
    "colab": {
     "base_uri": "https://localhost:8080/"
    },
    "id": "IXytfDQ8Shqr",
    "executionInfo": {
     "status": "ok",
     "timestamp": 1753669210364,
     "user_tz": 240,
     "elapsed": 64,
     "user": {
      "displayName": "Vy Do",
      "userId": "13933657984692773315"
     }
    },
    "outputId": "3ac7224a-ae22-4d04-a11f-825d7dacdf8a"
   },
   "outputs": [],
   "execution_count": null
  },
  {
   "cell_type": "code",
   "source": [
    "plt.scatter(stats_freesolve['SPECTRA_parameter'], stats_freesolve['cross_split_overlap'])\n",
    "plt.xlabel('SPECTRA parameter')\n",
    "plt.ylabel('Cross split overlap')\n",
    "plt.title('SPECTRA Splits of FreeSolv')\n",
    "plt.show()"
   ],
   "metadata": {
    "colab": {
     "base_uri": "https://localhost:8080/",
     "height": 472
    },
    "id": "X7ys84gHTNR-",
    "executionInfo": {
     "status": "ok",
     "timestamp": 1753669215342,
     "user_tz": 240,
     "elapsed": 869,
     "user": {
      "displayName": "Vy Do",
      "userId": "13933657984692773315"
     }
    },
    "outputId": "2847c45d-d487-4cd7-d1bd-b482cd9cc031"
   },
   "outputs": [],
   "execution_count": null
  },
  {
   "cell_type": "code",
   "source": [
    "plt.scatter(stats_freesolve['SPECTRA_parameter'], stats_freesolve['train_size'])\n",
    "plt.scatter(stats_freesolve['SPECTRA_parameter'], stats_freesolve['test_size'])\n",
    "plt.xlabel('SPECTRA parameter')\n",
    "plt.ylabel('Split size')\n",
    "plt.legend(['Train','Test'])\n",
    "plt.title('SPECTRA Splits of FreeSolv')\n",
    "plt.show()"
   ],
   "metadata": {
    "colab": {
     "base_uri": "https://localhost:8080/",
     "height": 472
    },
    "id": "estylKgzT3pw",
    "executionInfo": {
     "status": "ok",
     "timestamp": 1753669222335,
     "user_tz": 240,
     "elapsed": 301,
     "user": {
      "displayName": "Vy Do",
      "userId": "13933657984692773315"
     }
    },
    "outputId": "5d28584d-2451-4176-dcfb-87f2fa4edbf2"
   },
   "outputs": [],
   "execution_count": null
  },
  {
   "cell_type": "code",
   "source": [
    "save_path_freesolv = '/content/drive/MyDrive/SAGELab/spectra_project/spectra_splits/tanimoto/FreeSolv'\n",
    "if not os.path.exists(save_path_freesolv):\n",
    "  os.makedirs(save_path_freesolv)\n",
    "shutil.copytree('freesolve_SPECTRA_splits', os.path.join(save_path_freesolv, 'freesolv_SPECTRA_splits'))\n",
    "shutil.copytree('freesolve_spectral_property_graphs', os.path.join(save_path_freesolv, 'freesolv_spectral_property_graphs'))\n",
    "shutil.copy('freesolve_precalculated_spectra_properties', os.path.join(save_path_freesolv, 'freesolv_precalculated_spectra_properties'))"
   ],
   "metadata": {
    "colab": {
     "base_uri": "https://localhost:8080/",
     "height": 52
    },
    "id": "PEHnGs58zAiM",
    "executionInfo": {
     "status": "ok",
     "timestamp": 1753669249345,
     "user_tz": 240,
     "elapsed": 2052,
     "user": {
      "displayName": "Vy Do",
      "userId": "13933657984692773315"
     }
    },
    "outputId": "ce6cb388-810f-400d-fe05-7a240a4d750a"
   },
   "outputs": [],
   "execution_count": null
  },
  {
   "metadata": {},
   "cell_type": "code",
   "source": [
    "tasks, hiv_dataset, transformers = dc.molnet.load_hiv(splitter = None)\n",
    "hiv_smiles = hiv_dataset[0].ids"
   ],
   "outputs": [],
   "execution_count": null
  },
  {
   "metadata": {},
   "cell_type": "code",
   "source": [
    "mfp_hiv = []\n",
    "\n",
    "for i in range(len(hiv_smiles)):\n",
    "    mol = Chem.MolFromSmiles(hiv_smiles[i])\n",
    "    fp = rdFingerprintGenerator.GetMorganGenerator(radius = 2, fpSize = 1024).GetFingerprint(mol)\n",
    "    mfp_hiv.append(fp)"
   ],
   "outputs": [],
   "execution_count": null
  },
  {
   "metadata": {},
   "cell_type": "code",
   "source": [
    "hiv_dataset = molnet_dataset(mfp_hiv,'hiv')\n",
    "hiv_spectra = molnet_tanimoto_spectra(hiv_dataset, binary = False)\n",
    "hiv_spectra.pre_calculate_spectra_properties('hiv', force_recalculate = False)"
   ],
   "outputs": [],
   "execution_count": null
  },
  {
   "metadata": {},
   "cell_type": "code",
   "source": "hiv_spectra.generate_spectra_splits(**spectra_parameters)",
   "outputs": [],
   "execution_count": null
  },
  {
   "cell_type": "code",
   "source": [
    "tasks, lipo_dataset, transformers = dc.molnet.load_lipo(splitter = None)\n",
    "lipo_smiles = lipo_dataset[0].ids"
   ],
   "metadata": {
    "colab": {
     "base_uri": "https://localhost:8080/"
    },
    "id": "xx4tsR4vUAiN",
    "executionInfo": {
     "status": "ok",
     "timestamp": 1753660849031,
     "user_tz": 240,
     "elapsed": 6785,
     "user": {
      "displayName": "Vy Do",
      "userId": "13933657984692773315"
     }
    },
    "outputId": "ff1b4f83-a19e-47bb-c211-3c4daf630fad"
   },
   "outputs": [],
   "execution_count": null
  },
  {
   "cell_type": "code",
   "source": [
    "mfp_lipo = []\n",
    "\n",
    "for i in range(len(lipo_smiles)):\n",
    "  mol = Chem.MolFromSmiles(lipo_smiles[i])\n",
    "  fp = rdFingerprintGenerator.GetMorganGenerator(radius = 2, fpSize = 1024).GetFingerprint(mol)\n",
    "  mfp_lipo.append(fp)"
   ],
   "metadata": {
    "id": "p0z2mwfSVN-X"
   },
   "outputs": [],
   "execution_count": null
  },
  {
   "cell_type": "code",
   "source": [
    "lipo_dataset = molnet_dataset(mfp_lipo,'lipo')\n",
    "lipo_spectra = molnet_tanimoto_spectra(lipo_dataset, binary = False)\n",
    "lipo_spectra.pre_calculate_spectra_properties('lipo', force_recalculate = False)"
   ],
   "metadata": {
    "colab": {
     "base_uri": "https://localhost:8080/"
    },
    "id": "Y3ta66pXVR7I",
    "executionInfo": {
     "status": "ok",
     "timestamp": 1753660907121,
     "user_tz": 240,
     "elapsed": 38681,
     "user": {
      "displayName": "Vy Do",
      "userId": "13933657984692773315"
     }
    },
    "outputId": "b45d0134-1af3-4105-94ed-8421393d928b"
   },
   "outputs": [],
   "execution_count": null
  },
  {
   "cell_type": "code",
   "source": [
    "lipo_spectra.generate_spectra_splits(**spectra_parameters)"
   ],
   "metadata": {
    "colab": {
     "base_uri": "https://localhost:8080/",
     "height": 673
    },
    "id": "1EawAAHiVUYd",
    "executionInfo": {
     "status": "error",
     "timestamp": 1753662551105,
     "user_tz": 240,
     "elapsed": 285247,
     "user": {
      "displayName": "Vy Do",
      "userId": "13933657984692773315"
     }
    },
    "outputId": "fd5b955b-71f1-4690-a721-b9da609e9ca9"
   },
   "outputs": [],
   "execution_count": null
  },
  {
   "cell_type": "code",
   "source": [
    "stats_lipo = lipo_spectra.return_all_split_stats()\n",
    "stats_lipo_df = pd.DataFrame(stats_lipo).sort_values(by = 'SPECTRA_parameter', ascending = True)\n",
    "\n",
    "print('SPECTRA Splits on Lipo')\n",
    "print('----------------------')\n",
    "for index, row in stats_lipo_df.iterrows():\n",
    "  print(f'SPECTRA parameter: {row[\"SPECTRA_parameter\"]}')\n",
    "  print(f'Train size: {row[\"train_size\"]} | Test size: {row[\"test_size\"]}')\n",
    "  print(f'Cross split overlap: {row[\"cross_split_overlap\"]} \\n')"
   ],
   "metadata": {
    "id": "arn9uXZvVgeC"
   },
   "outputs": [],
   "execution_count": null
  },
  {
   "metadata": {},
   "cell_type": "code",
   "source": [
    "import matplotlib.pyplot as plt\n",
    "plt.scatter(stats_lipo['SPECTRA_parameter'], stats_lipo['cross_split_overlap'])\n",
    "plt.xlabel('SPECTRA parameter')\n",
    "plt.ylabel('Cross split overlap')\n",
    "plt.title('SPECTRA Splits of Lipo')\n",
    "plt.show()"
   ],
   "outputs": [],
   "execution_count": null
  },
  {
   "metadata": {},
   "cell_type": "code",
   "source": [
    "plt.scatter(stats_lipo['SPECTRA_parameter'], stats_lipo['train_size'])\n",
    "plt.scatter(stats_lipo['SPECTRA_parameter'], stats_lipo['test_size'])\n",
    "plt.xlabel('SPECTRA parameter')\n",
    "plt.ylabel('Split size')\n",
    "plt.legend(['Train','Test'])\n",
    "plt.title('SPECTRA Splits of Lipo')\n",
    "plt.show()"
   ],
   "outputs": [],
   "execution_count": null
  },
  {
   "metadata": {},
   "cell_type": "code",
   "source": [
    "tasks, tox21_dataset, transformers = dc.molnet.load_tox21(splitter = None,reload = False)\n",
    "tox21_smiles = tox21_dataset[0].ids\n",
    "\n",
    "mfp_tox21 = []\n",
    "for i in range(len(tox21_smiles)):\n",
    "    mol = Chem.MolFromSmiles(tox21_smiles[i])\n",
    "    fp = rdFingerprintGenerator.GetMorganGenerator(radius = 2, fpSize = 1024).GetFingerprint(mol)\n",
    "    mfp_tox21.append(fp)"
   ],
   "outputs": [],
   "execution_count": null
  },
  {
   "metadata": {},
   "cell_type": "code",
   "source": [
    "tox21_dataset = molnet_dataset(mfp_tox21,'tox21')\n",
    "tox21_spectra = molnet_tanimoto_spectra(tox21_dataset, binary = False)\n",
    "tox21_spectra.pre_calculate_spectra_properties('tox21')"
   ],
   "outputs": [],
   "execution_count": null
  },
  {
   "metadata": {
    "jupyter": {
     "is_executing": true
    }
   },
   "cell_type": "code",
   "source": "tox21_spectra.generate_spectra_splits(**spectra_parameters)",
   "outputs": [],
   "execution_count": null
  },
  {
   "metadata": {},
   "cell_type": "code",
   "source": "",
   "outputs": [],
   "execution_count": null
  }
 ],
 "metadata": {
  "accelerator": "GPU",
  "colab": {
   "gpuType": "T4",
   "provenance": [],
   "authorship_tag": "ABX9TyPkLgvyL/HbiWqcuJGL/16v"
  },
  "kernelspec": {
   "display_name": "Python 3",
   "name": "python3"
  },
  "language_info": {
   "name": "python"
  }
 },
 "nbformat": 4,
 "nbformat_minor": 0
}
